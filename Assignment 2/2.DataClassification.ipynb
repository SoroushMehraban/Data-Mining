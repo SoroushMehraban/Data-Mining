{
 "cells": [
  {
   "cell_type": "code",
   "execution_count": 1,
   "metadata": {},
   "outputs": [],
   "source": [
    "import pandas as pd\n",
    "import numpy as np\n",
    "from models.decision_tree import DecisionTree\n",
    "from model_selection import train_test_split\n",
    "from models.knn import KNearestNeighbor\n",
    "from models.naive_bayes import NaiveBayes"
   ]
  },
  {
   "cell_type": "markdown",
   "metadata": {},
   "source": [
    "# Decision Tree"
   ]
  },
  {
   "cell_type": "code",
   "execution_count": 2,
   "metadata": {},
   "outputs": [],
   "source": [
    "dataset1 = pd.read_csv('DatasetModified/dataset1.csv')\n",
    "dataset1_unknown = pd.read_csv('DatasetModified/dataset1_unknown.csv')"
   ]
  },
  {
   "cell_type": "code",
   "execution_count": 3,
   "metadata": {},
   "outputs": [],
   "source": [
    "train_set, test_set = train_test_split(dataset1, train_ratio=0.8)"
   ]
  },
  {
   "cell_type": "markdown",
   "metadata": {},
   "source": [
    "## Visualize Tree with different criterion"
   ]
  },
  {
   "cell_type": "code",
   "execution_count": 4,
   "metadata": {},
   "outputs": [
    {
     "name": "stdout",
     "output_type": "stream",
     "text": [
      "|--- feature_50 == 0\n",
      "|  |--- feature_26 == 0\n",
      "|  |  |--- feature_59 == 0\n",
      "|  |  |  |--- class 0\n",
      "|  |  |--- feature_59 == 1\n",
      "|  |  |  |--- class 0\n",
      "|  |--- feature_26 == 1\n",
      "|  |  |--- feature_59 == 0\n",
      "|  |  |  |--- class 1\n",
      "|  |  |--- feature_59 == 1\n",
      "|  |  |  |--- class 1\n",
      "|--- feature_50 == 1\n",
      "|  |--- feature_25 == 0\n",
      "|  |  |--- feature_65 == 0\n",
      "|  |  |  |--- class 0\n",
      "|  |  |--- feature_65 == 1\n",
      "|  |  |  |--- class 1\n",
      "|  |--- feature_25 == 1\n",
      "|  |  |--- feature_91 == 0\n",
      "|  |  |  |--- class 1\n",
      "|  |  |--- feature_91 == 1\n",
      "|  |  |  |--- class 0\n"
     ]
    }
   ],
   "source": [
    "decision_tree = DecisionTree(train_set, test_set, max_depth=3, min_size=10, criterion='GINI')\n",
    "decision_tree.visualize_tree()"
   ]
  },
  {
   "cell_type": "code",
   "execution_count": 5,
   "metadata": {
    "scrolled": false
   },
   "outputs": [
    {
     "name": "stdout",
     "output_type": "stream",
     "text": [
      "|--- feature_50 == 0\n",
      "|  |--- feature_73 == 0\n",
      "|  |  |--- feature_59 == 0\n",
      "|  |  |  |--- class 0\n",
      "|  |  |--- feature_59 == 1\n",
      "|  |  |  |--- class 0\n",
      "|  |--- feature_73 == 1\n",
      "|  |  |--- feature_91 == 0\n",
      "|  |  |  |--- class 0\n",
      "|  |  |--- feature_91 == 1\n",
      "|  |  |  |--- class 0\n",
      "|--- feature_50 == 1\n",
      "|  |--- feature_25 == 0\n",
      "|  |  |--- feature_65 == 0\n",
      "|  |  |  |--- class 0\n",
      "|  |  |--- feature_65 == 1\n",
      "|  |  |  |--- class 1\n",
      "|  |--- feature_25 == 1\n",
      "|  |  |--- feature_91 == 0\n",
      "|  |  |  |--- class 1\n",
      "|  |  |--- feature_91 == 1\n",
      "|  |  |  |--- class 0\n"
     ]
    }
   ],
   "source": [
    "decision_tree2 = DecisionTree(train_set, test_set, max_depth=3, min_size=10, criterion='ENTROPY')\n",
    "decision_tree2.visualize_tree()"
   ]
  },
  {
   "cell_type": "markdown",
   "metadata": {},
   "source": [
    "## Calculate Accuracy"
   ]
  },
  {
   "cell_type": "code",
   "execution_count": 6,
   "metadata": {},
   "outputs": [
    {
     "data": {
      "text/plain": [
       "80.69097888675624"
      ]
     },
     "execution_count": 6,
     "metadata": {},
     "output_type": "execute_result"
    }
   ],
   "source": [
    "decision_tree.get_accuracy()"
   ]
  },
  {
   "cell_type": "code",
   "execution_count": 7,
   "metadata": {},
   "outputs": [
    {
     "data": {
      "text/plain": [
       "80.7869481765835"
      ]
     },
     "execution_count": 7,
     "metadata": {},
     "output_type": "execute_result"
    }
   ],
   "source": [
    "decision_tree2.get_accuracy()"
   ]
  },
  {
   "cell_type": "markdown",
   "metadata": {},
   "source": [
    "## predict dataset_unknown"
   ]
  },
  {
   "cell_type": "code",
   "execution_count": 8,
   "metadata": {
    "scrolled": false
   },
   "outputs": [
    {
     "name": "stdout",
     "output_type": "stream",
     "text": [
      "class 0: 5691\n",
      "class 1: 821\n"
     ]
    }
   ],
   "source": [
    "decision_tree.change_test_set(dataset1_unknown)\n",
    "y_predicted = decision_tree.predict()\n",
    "_, counts = np.unique(y_predicted, return_counts=True)\n",
    "print(f\"class 0: {counts[0]}\\nclass 1: {counts[1]}\")"
   ]
  },
  {
   "cell_type": "code",
   "execution_count": 9,
   "metadata": {},
   "outputs": [
    {
     "name": "stdout",
     "output_type": "stream",
     "text": [
      "class 0: 5724\n",
      "class 1: 788\n"
     ]
    }
   ],
   "source": [
    "decision_tree2.change_test_set(dataset1_unknown)\n",
    "y_predicted = decision_tree2.predict()\n",
    "_, counts = np.unique(y_predicted, return_counts=True)\n",
    "print(f\"class 0: {counts[0]}\\nclass 1: {counts[1]}\")"
   ]
  },
  {
   "cell_type": "markdown",
   "metadata": {},
   "source": [
    "# K-Nearest Neighbors"
   ]
  },
  {
   "cell_type": "code",
   "execution_count": 10,
   "metadata": {},
   "outputs": [],
   "source": [
    "dataset2 = pd.read_csv('DatasetModified/dataset2.csv')\n",
    "dataset2_unknown = pd.read_csv('DatasetModified/dataset2_unknown.csv')"
   ]
  },
  {
   "cell_type": "code",
   "execution_count": 11,
   "metadata": {},
   "outputs": [],
   "source": [
    "train_set, test_set = train_test_split(dataset2, train_ratio=0.8)"
   ]
  },
  {
   "cell_type": "code",
   "execution_count": 12,
   "metadata": {},
   "outputs": [
    {
     "data": {
      "text/plain": [
       "100.0"
      ]
     },
     "execution_count": 12,
     "metadata": {},
     "output_type": "execute_result"
    }
   ],
   "source": [
    "knn = KNearestNeighbor(train_set, test_set, k=10)\n",
    "knn.get_accuracy()"
   ]
  },
  {
   "cell_type": "code",
   "execution_count": 13,
   "metadata": {},
   "outputs": [
    {
     "name": "stdout",
     "output_type": "stream",
     "text": [
      "class 0: 800\n",
      "class 1: 825\n"
     ]
    }
   ],
   "source": [
    "knn.change_test_set(dataset2_unknown)\n",
    "y_predicted = knn.predict()\n",
    "_, counts = np.unique(y_predicted, return_counts=True)\n",
    "print(f\"class 0: {counts[0]}\\nclass 1: {counts[1]}\")"
   ]
  },
  {
   "cell_type": "markdown",
   "metadata": {},
   "source": [
    "# Naive Bayes"
   ]
  },
  {
   "cell_type": "code",
   "execution_count": 14,
   "metadata": {},
   "outputs": [],
   "source": [
    "dataset3 = pd.read_csv('DatasetModified/dataset3.csv')\n",
    "dataset3_unknown = pd.read_csv('DatasetModified/dataset3_unknown.csv')"
   ]
  },
  {
   "cell_type": "code",
   "execution_count": 15,
   "metadata": {},
   "outputs": [],
   "source": [
    "train_set, test_set = train_test_split(dataset3, train_ratio=0.8)"
   ]
  },
  {
   "cell_type": "code",
   "execution_count": 16,
   "metadata": {},
   "outputs": [
    {
     "data": {
      "text/plain": [
       "77.55102040816327"
      ]
     },
     "execution_count": 16,
     "metadata": {},
     "output_type": "execute_result"
    }
   ],
   "source": [
    "naive_bayes = NaiveBayes(train_set, test_set)\n",
    "naive_bayes.get_accuracy()"
   ]
  },
  {
   "cell_type": "code",
   "execution_count": 17,
   "metadata": {},
   "outputs": [
    {
     "name": "stdout",
     "output_type": "stream",
     "text": [
      "class 0: 35\n",
      "class 1: 26\n"
     ]
    }
   ],
   "source": [
    "naive_bayes.change_test_set(dataset3_unknown)\n",
    "y_predicted = naive_bayes.predict()\n",
    "_, counts = np.unique(y_predicted, return_counts=True)\n",
    "print(f\"class 0: {counts[0]}\\nclass 1: {counts[1]}\")"
   ]
  },
  {
   "cell_type": "code",
   "execution_count": null,
   "metadata": {},
   "outputs": [],
   "source": []
  }
 ],
 "metadata": {
  "kernelspec": {
   "display_name": "Python 3",
   "language": "python",
   "name": "python3"
  },
  "language_info": {
   "codemirror_mode": {
    "name": "ipython",
    "version": 3
   },
   "file_extension": ".py",
   "mimetype": "text/x-python",
   "name": "python",
   "nbconvert_exporter": "python",
   "pygments_lexer": "ipython3",
   "version": "3.8.7"
  }
 },
 "nbformat": 4,
 "nbformat_minor": 4
}
